{
 "cells": [
  {
   "cell_type": "markdown",
   "id": "27d0076a-8a5f-40a6-8b6e-18340bd66ed6",
   "metadata": {},
   "source": [
    "# Data Science Tools and Ecosystem "
   ]
  },
  {
   "cell_type": "markdown",
   "id": "f0336fe9-1463-4698-a81e-04ac3f7f8ac6",
   "metadata": {},
   "source": [
    "### In this notebook, Data science tools and ecosystem are summarized"
   ]
  },
  {
   "cell_type": "markdown",
   "id": "99e67fc7-a578-404f-8f17-7150b5b3c1c1",
   "metadata": {},
   "source": [
    "## Some of the popular languages that data scientists use are:"
   ]
  },
  {
   "cell_type": "markdown",
   "id": "0bf9344d-0209-4cd2-ad57-64e38808bfca",
   "metadata": {},
   "source": [
    "1. Python\n",
    "2. R\n",
    "3. Julia"
   ]
  },
  {
   "cell_type": "markdown",
   "id": "73668746-8eb1-4cc3-b14e-4e6f6bb6a42c",
   "metadata": {},
   "source": [
    "## Some of the commonly used libraries used by data scientists include:"
   ]
  },
  {
   "cell_type": "markdown",
   "id": "a11a7fbc-d3e2-4017-a859-96518d24d634",
   "metadata": {},
   "source": [
    "1. Panda\n",
    "2. Numpy\n",
    "3. Matplotlib\n",
    "4. TensorFlow"
   ]
  },
  {
   "cell_type": "markdown",
   "id": "2e9d8f0f-d577-4f16-9f55-27533e09f999",
   "metadata": {},
   "source": [
    "## A table data science Tools"
   ]
  },
  {
   "cell_type": "markdown",
   "id": "c616ef68-c9bf-4881-8ed6-876a30e77f43",
   "metadata": {},
   "source": [
    " Data Science Tools\n",
    " |----------|\n",
    "Jupyter Notebook\n",
    "GitHub\n",
    "Rstudio\n",
    " \n",
    " "
   ]
  },
  {
   "cell_type": "markdown",
   "id": "7bd70b2f-5129-4d9e-84e4-b3d805903f7b",
   "metadata": {},
   "source": [
    "### Below are a few examples of evaluating arithmetic expressions in Python\n",
    "* This is a simple arithmetic expression to multiply then add an interger"
   ]
  },
  {
   "cell_type": "code",
   "execution_count": 1,
   "id": "86c35405-8654-4cfa-a237-9e3fb25cf26c",
   "metadata": {},
   "outputs": [
    {
     "data": {
      "text/plain": [
       "17"
      ]
     },
     "execution_count": 1,
     "metadata": {},
     "output_type": "execute_result"
    }
   ],
   "source": [
    "(3*4)+5"
   ]
  },
  {
   "cell_type": "markdown",
   "id": "122f740f-0876-41ae-85a8-488f0c3dbe97",
   "metadata": {},
   "source": [
    "* coverting 200 minutes to hours by dividing 200 by 60"
   ]
  },
  {
   "cell_type": "code",
   "execution_count": 2,
   "id": "61c75e4e-4272-4d84-82e5-62410a3a2f3b",
   "metadata": {},
   "outputs": [
    {
     "data": {
      "text/plain": [
       "3.3333333333333335"
      ]
     },
     "execution_count": 2,
     "metadata": {},
     "output_type": "execute_result"
    }
   ],
   "source": [
    "200/60"
   ]
  },
  {
   "cell_type": "markdown",
   "id": "bd03654c-7033-4de9-8e4d-972bb7c67ad6",
   "metadata": {},
   "source": [
    "* 200 minutes = 3.3333333333335 hours"
   ]
  },
  {
   "cell_type": "markdown",
   "id": "d1914b42-1d88-41b2-9e30-04f2d9634c82",
   "metadata": {},
   "source": [
    "# **Objectives**\n",
    "* Some of the key take aways from this course are;\n",
    "  "
   ]
  },
  {
   "cell_type": "markdown",
   "id": "058af750-5186-4660-a374-67b97221fcfd",
   "metadata": {},
   "source": [
    "- Creating Jupyter Notebook\n",
    "- Renaming notebook\n",
    "- Some of the popular languages that data scientist use\n",
    "- Some of the commonly used libraries used by data scientist\n",
    "- Data science tools"
   ]
  },
  {
   "cell_type": "markdown",
   "id": "2939dec5-b371-429a-80c4-54c297105970",
   "metadata": {},
   "source": [
    "## Author\n",
    "* Epiezitone Ebong Edume"
   ]
  },
  {
   "cell_type": "code",
   "execution_count": null,
   "id": "f88acd74-f04f-412b-a5b3-25f9aaa3468a",
   "metadata": {},
   "outputs": [],
   "source": []
  }
 ],
 "metadata": {
  "kernelspec": {
   "display_name": "Python 3 (ipykernel)",
   "language": "python",
   "name": "python3"
  },
  "language_info": {
   "codemirror_mode": {
    "name": "ipython",
    "version": 3
   },
   "file_extension": ".py",
   "mimetype": "text/x-python",
   "name": "python",
   "nbconvert_exporter": "python",
   "pygments_lexer": "ipython3",
   "version": "3.12.8"
  }
 },
 "nbformat": 4,
 "nbformat_minor": 5
}
